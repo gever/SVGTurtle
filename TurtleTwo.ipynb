{
  "nbformat": 4,
  "nbformat_minor": 0,
  "metadata": {
    "colab": {
      "name": "TurtleTwo.ipynb",
      "provenance": [],
      "collapsed_sections": [],
      "authorship_tag": "ABX9TyNEIu3HkRvqgPgO5NcAkpG4",
      "include_colab_link": true
    },
    "kernelspec": {
      "name": "python3",
      "display_name": "Python 3"
    },
    "language_info": {
      "name": "python"
    }
  },
  "cells": [
    {
      "cell_type": "markdown",
      "metadata": {
        "id": "view-in-github",
        "colab_type": "text"
      },
      "source": [
        "<a href=\"https://colab.research.google.com/github/gever/SVGTurtle/blob/main/TurtleTwo.ipynb\" target=\"_parent\"><img src=\"https://colab.research.google.com/assets/colab-badge.svg\" alt=\"Open In Colab\"/></a>"
      ]
    },
    {
      "cell_type": "code",
      "metadata": {
        "colab": {
          "base_uri": "https://localhost:8080/"
        },
        "id": "CymsHyM2wSYL",
        "outputId": "14ecc1dd-5223-4884-f690-2f86382542c3"
      },
      "source": [
        "!pip install drawSvg > /dev/null; echo \"Done.\""
      ],
      "execution_count": 6,
      "outputs": [
        {
          "output_type": "stream",
          "text": [
            "Done.\n"
          ],
          "name": "stdout"
        }
      ]
    },
    {
      "cell_type": "code",
      "metadata": {
        "id": "s5brWG7Wjy_o"
      },
      "source": [
        "import drawSvg as draw\n",
        "import math\n",
        "DEG2RAD = math.pi/180\n",
        "\n",
        "class state:\n",
        "  def __init__(self, x, y, heading, pendown, pencolor):\n",
        "    self.x = x\n",
        "    self.y = y\n",
        "    self.heading = heading\n",
        "    self.pendown = pendown\n",
        "    self.pencolor = pencolor\n",
        "\n",
        "class Turtle:\n",
        "  def __init__(self, w=400, h=400):\n",
        "    self.stack = []\n",
        "    self.d = draw.Drawing(w, h, origin='center')\n",
        "    self.d.setPixelScale(2)\n",
        "    self.x = 0\n",
        "    self.y = 0\n",
        "    self.heading = 0\n",
        "    self.pendown = True\n",
        "    self.pencolor = \"#00eeee\"\n",
        "\n",
        "  def push(self):\n",
        "    s = state(self.x, self.y, self.heading, self.pendown, self.pencolor)\n",
        "    self.stack.append( s )\n",
        "  \n",
        "  def pop(self):\n",
        "    s = self.stack.pop()\n",
        "    self.x = s.x\n",
        "    self.y = s.y\n",
        "    self.heading = s.heading\n",
        "    self.pendown = s.pendown\n",
        "    self.pencolor = s.pencolor\n",
        "\n",
        "  def _line(self, x1, y1, x2, y2):\n",
        "    self.d.append(draw.Lines(x1, y1, x2, y2,\n",
        "                          close=False,\n",
        "                          fill=None,\n",
        "                          stroke=self.pencolor))\n",
        "  \n",
        "  def forward(self, d):\n",
        "    nx = self.x + math.cos(self.heading * DEG2RAD) * d\n",
        "    ny = self.y + math.sin(self.heading * DEG2RAD) * d\n",
        "    if self.pendown:\n",
        "      self._line(self.x, self.y, nx, ny)\n",
        "    self.x = nx\n",
        "    self.y = ny\n",
        "  \n",
        "  def rectangle(self, w, h):\n",
        "    # does not move the turtle\n",
        "    self.d.append(draw.Rectangle(x=self.x, y=self.y, width=w, height=h, stroke=self.pencolor, fill=\"rgba(0,0,0,0)\"))\n",
        "\n",
        "  def pen_down(self):\n",
        "    self.pendown = True\n",
        "  \n",
        "  def pen_up(self):\n",
        "    self.pendown = False\n",
        "\n",
        "  def right(self, delta):\n",
        "    self.heading -= delta\n",
        "  \n",
        "  def left(self, delta):\n",
        "    self.heading += delta\n",
        "\n",
        "  def color(self, c):\n",
        "    self.pencolor = c\n",
        "  \n",
        "  def jump_to(self, x, y):\n",
        "    self.x = x\n",
        "    self.y = y"
      ],
      "execution_count": 7,
      "outputs": []
    },
    {
      "cell_type": "code",
      "metadata": {
        "colab": {
          "base_uri": "https://localhost:8080/",
          "height": 421
        },
        "id": "gakQpyEI5qnf",
        "outputId": "2490b696-9339-490d-dfef-eb273c977459"
      },
      "source": [
        "t = Turtle(200, 200)\n",
        "\n",
        "def square(s):\n",
        "  for i in range(5):\n",
        "    t.forward(s)\n",
        "    t.right(90)\n",
        "\n",
        "def ngon(n,s):\n",
        "  for i in range(n):\n",
        "    t.forward(s)\n",
        "    t.right(360/n)\n",
        "\n",
        "def arc(s):\n",
        "  for i in range(10):\n",
        "    t.forward(s)\n",
        "    t.right(9)\n",
        "\n",
        "def leaf(s):\n",
        "  t.push()\n",
        "  arc(s)\n",
        "  t.right(90)\n",
        "  arc(s)\n",
        "  t.pop()\n",
        "\n",
        "t.color(\"green\")\n",
        "t.forward(25)\n",
        "t.left(90)\n",
        "t.forward(25)\n",
        "t.push()\n",
        "t.color(\"lightgreen\")\n",
        "leaf(5)\n",
        "t.pop()\n",
        "t.forward(10)\n",
        "\n",
        "t.d.saveSvg(\"output.svg\")\n",
        "t.d  # Display as SVG"
      ],
      "execution_count": 8,
      "outputs": [
        {
          "output_type": "execute_result",
          "data": {
            "text/plain": [
              "<drawSvg.drawing.Drawing at 0x7f04d9b24890>"
            ],
            "image/svg+xml": "<?xml version=\"1.0\" encoding=\"UTF-8\"?>\n<svg xmlns=\"http://www.w3.org/2000/svg\" xmlns:xlink=\"http://www.w3.org/1999/xlink\"\n     width=\"400\" height=\"400\" viewBox=\"-100.0 -100.0 200 200\">\n<defs>\n</defs>\n<path d=\"M0,0 L25.0,-0.0\" stroke=\"green\" />\n<path d=\"M25.0,-0.0 L25.0,-25.0\" stroke=\"green\" />\n<path d=\"M25.0,-25.0 L25.0,-30.0\" stroke=\"lightgreen\" />\n<path d=\"M25.0,-30.0 L25.782172325201156,-34.93844170297569\" stroke=\"lightgreen\" />\n<path d=\"M25.782172325201156,-34.93844170297569 L27.327257297075892,-39.693724284451456\" stroke=\"lightgreen\" />\n<path d=\"M27.327257297075892,-39.693724284451456 L29.597209795773626,-44.1487569053933\" stroke=\"lightgreen\" />\n<path d=\"M29.597209795773626,-44.1487569053933 L32.53613605723599,-48.193841877268035\" stroke=\"lightgreen\" />\n<path d=\"M32.53613605723599,-48.193841877268035 L36.07166996316873,-51.72937578320077\" stroke=\"lightgreen\" />\n<path d=\"M36.07166996316873,-51.72937578320077 L40.11675493504347,-54.668302044663136\" stroke=\"lightgreen\" />\n<path d=\"M40.11675493504347,-54.668302044663136 L44.57178755598531,-56.93825454336087\" stroke=\"lightgreen\" />\n<path d=\"M44.57178755598531,-56.93825454336087 L49.32707013746108,-58.483339515235606\" stroke=\"lightgreen\" />\n<path d=\"M49.32707013746108,-58.483339515235606 L54.265511840436766,-59.26551184043676\" stroke=\"lightgreen\" />\n<path d=\"M54.265511840436766,-59.26551184043676 L54.265511840436766,-54.26551184043676\" stroke=\"lightgreen\" />\n<path d=\"M54.265511840436766,-54.26551184043676 L53.48333951523561,-49.32707013746107\" stroke=\"lightgreen\" />\n<path d=\"M53.48333951523561,-49.32707013746107 L51.93825454336088,-44.5717875559853\" stroke=\"lightgreen\" />\n<path d=\"M51.93825454336088,-44.5717875559853 L49.66830204466314,-40.11675493504346\" stroke=\"lightgreen\" />\n<path d=\"M49.66830204466314,-40.11675493504346 L46.72937578320078,-36.07166996316872\" stroke=\"lightgreen\" />\n<path d=\"M46.72937578320078,-36.07166996316872 L43.19384187726804,-32.536136057235986\" stroke=\"lightgreen\" />\n<path d=\"M43.19384187726804,-32.536136057235986 L39.148756905393306,-29.59720979577362\" stroke=\"lightgreen\" />\n<path d=\"M39.148756905393306,-29.59720979577362 L34.69372428445146,-27.327257297075885\" stroke=\"lightgreen\" />\n<path d=\"M34.69372428445146,-27.327257297075885 L29.938441702975695,-25.78217232520115\" stroke=\"lightgreen\" />\n<path d=\"M29.938441702975695,-25.78217232520115 L25.000000000000007,-24.999999999999993\" stroke=\"lightgreen\" />\n<path d=\"M25.0,-25.0 L25.0,-35.0\" stroke=\"green\" />\n</svg>"
          },
          "metadata": {
            "tags": []
          },
          "execution_count": 8
        }
      ]
    }
  ]
}